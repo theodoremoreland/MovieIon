{
 "cells": [
  {
   "cell_type": "code",
   "execution_count": 5,
   "metadata": {},
   "outputs": [
    {
     "name": "stderr",
     "output_type": "stream",
     "text": [
      "/anaconda3/lib/python3.7/site-packages/fuzzywuzzy/fuzz.py:11: UserWarning: Using slow pure-python SequenceMatcher. Install python-Levenshtein to remove this warning\n",
      "  warnings.warn('Using slow pure-python SequenceMatcher. Install python-Levenshtein to remove this warning')\n"
     ]
    }
   ],
   "source": [
    "import os\n",
    "import numpy as np\n",
    "import pandas as pd\n",
    "\n",
    "import matplotlib.pyplot as plt\n",
    "from scipy.sparse import csr_matrix\n",
    "from sklearn.neighbors import KNeighborsClassifier\n",
    "\n",
    "from fuzzywuzzy import fuzz\n",
    "import pickle"
   ]
  },
  {
   "cell_type": "code",
   "execution_count": 9,
   "metadata": {},
   "outputs": [],
   "source": [
    "# File Path\n",
    "movies_file = \"movies.csv\"\n",
    "#ratings_file = \"ratings.csv\"\n",
    "# Read in the Data\n",
    "movies_df = pd.read_csv(movies_file)\n",
    "#ratings_df = pd.read_csv(ratings_file)"
   ]
  },
  {
   "cell_type": "code",
   "execution_count": 10,
   "metadata": {},
   "outputs": [],
   "source": [
    "ratings_file = \"../../../Downloads/ml-latest/ratings.csv\"\n",
    "ratings_df = pd.read_csv(ratings_file)"
   ]
  },
  {
   "cell_type": "code",
   "execution_count": null,
   "metadata": {},
   "outputs": [],
   "source": [
    "movies_df.head()"
   ]
  },
  {
   "cell_type": "code",
   "execution_count": null,
   "metadata": {},
   "outputs": [],
   "source": [
    "movies_df.info()"
   ]
  },
  {
   "cell_type": "code",
   "execution_count": null,
   "metadata": {},
   "outputs": [],
   "source": [
    "ratings_df.head()"
   ]
  },
  {
   "cell_type": "code",
   "execution_count": null,
   "metadata": {},
   "outputs": [],
   "source": [
    "ratings_df.info()"
   ]
  },
  {
   "cell_type": "code",
   "execution_count": 11,
   "metadata": {},
   "outputs": [
    {
     "name": "stdout",
     "output_type": "stream",
     "text": [
      "There are 283228 users and 53889 movies in this dataset.\n"
     ]
    }
   ],
   "source": [
    "number_users = len(ratings_df.userId.unique())\n",
    "number_movies = len(ratings_df.movieId.unique())\n",
    "print('There are {} users and {} movies in this dataset.'.format(number_users, number_movies) )"
   ]
  },
  {
   "cell_type": "code",
   "execution_count": 49,
   "metadata": {},
   "outputs": [
    {
     "data": {
      "text/html": [
       "<div>\n",
       "<style scoped>\n",
       "    .dataframe tbody tr th:only-of-type {\n",
       "        vertical-align: middle;\n",
       "    }\n",
       "\n",
       "    .dataframe tbody tr th {\n",
       "        vertical-align: top;\n",
       "    }\n",
       "\n",
       "    .dataframe thead th {\n",
       "        text-align: right;\n",
       "    }\n",
       "</style>\n",
       "<table border=\"1\" class=\"dataframe\">\n",
       "  <thead>\n",
       "    <tr style=\"text-align: right;\">\n",
       "      <th></th>\n",
       "      <th>count</th>\n",
       "    </tr>\n",
       "    <tr>\n",
       "      <th>movieId</th>\n",
       "      <th></th>\n",
       "    </tr>\n",
       "  </thead>\n",
       "  <tbody>\n",
       "    <tr>\n",
       "      <th>318</th>\n",
       "      <td>97999</td>\n",
       "    </tr>\n",
       "    <tr>\n",
       "      <th>356</th>\n",
       "      <td>97040</td>\n",
       "    </tr>\n",
       "    <tr>\n",
       "      <th>296</th>\n",
       "      <td>92406</td>\n",
       "    </tr>\n",
       "    <tr>\n",
       "      <th>593</th>\n",
       "      <td>87899</td>\n",
       "    </tr>\n",
       "    <tr>\n",
       "      <th>2571</th>\n",
       "      <td>84545</td>\n",
       "    </tr>\n",
       "  </tbody>\n",
       "</table>\n",
       "</div>"
      ],
      "text/plain": [
       "         count\n",
       "movieId       \n",
       "318      97999\n",
       "356      97040\n",
       "296      92406\n",
       "593      87899\n",
       "2571     84545"
      ]
     },
     "execution_count": 49,
     "metadata": {},
     "output_type": "execute_result"
    }
   ],
   "source": [
    "# get rating frequency of movies\n",
    "movie_ratings_count = pd.DataFrame(ratings_df.groupby('movieId').size(), columns=['count'])\n",
    "movie_ratings_count.sort_values('count', ascending=False).head()                                               "
   ]
  },
  {
   "cell_type": "code",
   "execution_count": 50,
   "metadata": {},
   "outputs": [
    {
     "data": {
      "text/plain": [
       "1.0    97999.0\n",
       "0.9      531.0\n",
       "0.8       91.0\n",
       "0.7       28.0\n",
       "0.6       12.0\n",
       "0.5        7.0\n",
       "0.4        4.0\n",
       "0.3        2.0\n",
       "0.2        2.0\n",
       "0.1        1.0\n",
       "Name: count, dtype: float64"
      ]
     },
     "execution_count": 50,
     "metadata": {},
     "output_type": "execute_result"
    }
   ],
   "source": [
    "movie_ratings_count['count'].quantile(np.arange(1, 0.0, -.1))"
   ]
  },
  {
   "cell_type": "code",
   "execution_count": 51,
   "metadata": {},
   "outputs": [
    {
     "name": "stdout",
     "output_type": "stream",
     "text": [
      "<class 'pandas.core.frame.DataFrame'>\n",
      "Int64Index: 27322425 entries, 0 to 27753443\n",
      "Data columns (total 4 columns):\n",
      "userId       int64\n",
      "movieId      int64\n",
      "rating       float64\n",
      "timestamp    int64\n",
      "dtypes: float64(1), int64(3)\n",
      "memory usage: 1.0 GB\n"
     ]
    }
   ],
   "source": [
    "# filter data by count of reviews\n",
    "number_reviews = 75\n",
    "popular_movies = list(set(movie_ratings_count.query('count >= @number_reviews').index))\n",
    "filtered_movie_df = ratings_df[ratings_df.movieId.isin(popular_movies)]\n",
    "filtered_movie_df.info()"
   ]
  },
  {
   "cell_type": "code",
   "execution_count": 52,
   "metadata": {},
   "outputs": [
    {
     "data": {
      "text/html": [
       "<div>\n",
       "<style scoped>\n",
       "    .dataframe tbody tr th:only-of-type {\n",
       "        vertical-align: middle;\n",
       "    }\n",
       "\n",
       "    .dataframe tbody tr th {\n",
       "        vertical-align: top;\n",
       "    }\n",
       "\n",
       "    .dataframe thead th {\n",
       "        text-align: right;\n",
       "    }\n",
       "</style>\n",
       "<table border=\"1\" class=\"dataframe\">\n",
       "  <thead>\n",
       "    <tr style=\"text-align: right;\">\n",
       "      <th></th>\n",
       "      <th>count</th>\n",
       "    </tr>\n",
       "    <tr>\n",
       "      <th>userId</th>\n",
       "      <th></th>\n",
       "    </tr>\n",
       "  </thead>\n",
       "  <tbody>\n",
       "    <tr>\n",
       "      <th>123100</th>\n",
       "      <td>8332</td>\n",
       "    </tr>\n",
       "    <tr>\n",
       "      <th>117490</th>\n",
       "      <td>6537</td>\n",
       "    </tr>\n",
       "    <tr>\n",
       "      <th>242683</th>\n",
       "      <td>6525</td>\n",
       "    </tr>\n",
       "    <tr>\n",
       "      <th>212343</th>\n",
       "      <td>5876</td>\n",
       "    </tr>\n",
       "    <tr>\n",
       "      <th>63783</th>\n",
       "      <td>5495</td>\n",
       "    </tr>\n",
       "  </tbody>\n",
       "</table>\n",
       "</div>"
      ],
      "text/plain": [
       "        count\n",
       "userId       \n",
       "123100   8332\n",
       "117490   6537\n",
       "242683   6525\n",
       "212343   5876\n",
       "63783    5495"
      ]
     },
     "execution_count": 52,
     "metadata": {},
     "output_type": "execute_result"
    }
   ],
   "source": [
    "# get ratings frequency of users\n",
    "user_ratings_count = pd.DataFrame(filtered_movie_df.groupby('userId').size(), columns=['count'])\n",
    "user_ratings_count.sort_values('count', ascending=False).head() "
   ]
  },
  {
   "cell_type": "code",
   "execution_count": 53,
   "metadata": {},
   "outputs": [
    {
     "data": {
      "text/plain": [
       "1.0    8332.0\n",
       "0.9     239.0\n",
       "0.8     121.0\n",
       "0.7      73.0\n",
       "0.6      47.0\n",
       "0.5      30.0\n",
       "0.4      20.0\n",
       "0.3      16.0\n",
       "0.2      13.0\n",
       "0.1       6.0\n",
       "Name: count, dtype: float64"
      ]
     },
     "execution_count": 53,
     "metadata": {},
     "output_type": "execute_result"
    }
   ],
   "source": [
    "user_ratings_count['count'].quantile(np.arange(1, 0.0, -0.10))"
   ]
  },
  {
   "cell_type": "code",
   "execution_count": 55,
   "metadata": {},
   "outputs": [
    {
     "name": "stdout",
     "output_type": "stream",
     "text": [
      "<class 'pandas.core.frame.DataFrame'>\n",
      "Int64Index: 26869134 entries, 0 to 27753443\n",
      "Data columns (total 4 columns):\n",
      "userId       int64\n",
      "movieId      int64\n",
      "rating       float64\n",
      "timestamp    int64\n",
      "dtypes: float64(1), int64(3)\n",
      "memory usage: 1.0 GB\n"
     ]
    }
   ],
   "source": [
    "# filter data by count of user ratings\n",
    "user_reviews = 210\n",
    "popular_users = list(set(movie_ratings_count.query('count >= @user_reviews').index))\n",
    "filtered_user_df = filtered_movie_df[filtered_movie_df.movieId.isin(popular_users)]\n",
    "filtered_user_df.info()"
   ]
  },
  {
   "cell_type": "code",
   "execution_count": 56,
   "metadata": {},
   "outputs": [
    {
     "data": {
      "text/html": [
       "<div>\n",
       "<style scoped>\n",
       "    .dataframe tbody tr th:only-of-type {\n",
       "        vertical-align: middle;\n",
       "    }\n",
       "\n",
       "    .dataframe tbody tr th {\n",
       "        vertical-align: top;\n",
       "    }\n",
       "\n",
       "    .dataframe thead th {\n",
       "        text-align: right;\n",
       "    }\n",
       "</style>\n",
       "<table border=\"1\" class=\"dataframe\">\n",
       "  <thead>\n",
       "    <tr style=\"text-align: right;\">\n",
       "      <th></th>\n",
       "      <th>userId</th>\n",
       "      <th>movieId</th>\n",
       "      <th>rating</th>\n",
       "      <th>timestamp</th>\n",
       "    </tr>\n",
       "  </thead>\n",
       "  <tbody>\n",
       "    <tr>\n",
       "      <th>0</th>\n",
       "      <td>1</td>\n",
       "      <td>307</td>\n",
       "      <td>3.5</td>\n",
       "      <td>1256677221</td>\n",
       "    </tr>\n",
       "    <tr>\n",
       "      <th>1</th>\n",
       "      <td>1</td>\n",
       "      <td>481</td>\n",
       "      <td>3.5</td>\n",
       "      <td>1256677456</td>\n",
       "    </tr>\n",
       "    <tr>\n",
       "      <th>2</th>\n",
       "      <td>1</td>\n",
       "      <td>1091</td>\n",
       "      <td>1.5</td>\n",
       "      <td>1256677471</td>\n",
       "    </tr>\n",
       "    <tr>\n",
       "      <th>3</th>\n",
       "      <td>1</td>\n",
       "      <td>1257</td>\n",
       "      <td>4.5</td>\n",
       "      <td>1256677460</td>\n",
       "    </tr>\n",
       "    <tr>\n",
       "      <th>4</th>\n",
       "      <td>1</td>\n",
       "      <td>1449</td>\n",
       "      <td>4.5</td>\n",
       "      <td>1256677264</td>\n",
       "    </tr>\n",
       "    <tr>\n",
       "      <th>5</th>\n",
       "      <td>1</td>\n",
       "      <td>1590</td>\n",
       "      <td>2.5</td>\n",
       "      <td>1256677236</td>\n",
       "    </tr>\n",
       "    <tr>\n",
       "      <th>6</th>\n",
       "      <td>1</td>\n",
       "      <td>1591</td>\n",
       "      <td>1.5</td>\n",
       "      <td>1256677475</td>\n",
       "    </tr>\n",
       "    <tr>\n",
       "      <th>7</th>\n",
       "      <td>1</td>\n",
       "      <td>2134</td>\n",
       "      <td>4.5</td>\n",
       "      <td>1256677464</td>\n",
       "    </tr>\n",
       "    <tr>\n",
       "      <th>8</th>\n",
       "      <td>1</td>\n",
       "      <td>2478</td>\n",
       "      <td>4.0</td>\n",
       "      <td>1256677239</td>\n",
       "    </tr>\n",
       "    <tr>\n",
       "      <th>9</th>\n",
       "      <td>1</td>\n",
       "      <td>2840</td>\n",
       "      <td>3.0</td>\n",
       "      <td>1256677500</td>\n",
       "    </tr>\n",
       "    <tr>\n",
       "      <th>10</th>\n",
       "      <td>1</td>\n",
       "      <td>2986</td>\n",
       "      <td>2.5</td>\n",
       "      <td>1256677496</td>\n",
       "    </tr>\n",
       "    <tr>\n",
       "      <th>11</th>\n",
       "      <td>1</td>\n",
       "      <td>3020</td>\n",
       "      <td>4.0</td>\n",
       "      <td>1256677260</td>\n",
       "    </tr>\n",
       "    <tr>\n",
       "      <th>12</th>\n",
       "      <td>1</td>\n",
       "      <td>3424</td>\n",
       "      <td>4.5</td>\n",
       "      <td>1256677444</td>\n",
       "    </tr>\n",
       "    <tr>\n",
       "      <th>13</th>\n",
       "      <td>1</td>\n",
       "      <td>3698</td>\n",
       "      <td>3.5</td>\n",
       "      <td>1256677243</td>\n",
       "    </tr>\n",
       "    <tr>\n",
       "      <th>14</th>\n",
       "      <td>1</td>\n",
       "      <td>3826</td>\n",
       "      <td>2.0</td>\n",
       "      <td>1256677210</td>\n",
       "    </tr>\n",
       "  </tbody>\n",
       "</table>\n",
       "</div>"
      ],
      "text/plain": [
       "    userId  movieId  rating   timestamp\n",
       "0        1      307     3.5  1256677221\n",
       "1        1      481     3.5  1256677456\n",
       "2        1     1091     1.5  1256677471\n",
       "3        1     1257     4.5  1256677460\n",
       "4        1     1449     4.5  1256677264\n",
       "5        1     1590     2.5  1256677236\n",
       "6        1     1591     1.5  1256677475\n",
       "7        1     2134     4.5  1256677464\n",
       "8        1     2478     4.0  1256677239\n",
       "9        1     2840     3.0  1256677500\n",
       "10       1     2986     2.5  1256677496\n",
       "11       1     3020     4.0  1256677260\n",
       "12       1     3424     4.5  1256677444\n",
       "13       1     3698     3.5  1256677243\n",
       "14       1     3826     2.0  1256677210"
      ]
     },
     "execution_count": 56,
     "metadata": {},
     "output_type": "execute_result"
    }
   ],
   "source": [
    "filtered_user_df.head(15)"
   ]
  },
  {
   "cell_type": "code",
   "execution_count": 58,
   "metadata": {},
   "outputs": [
    {
     "data": {
      "text/html": [
       "<div>\n",
       "<style scoped>\n",
       "    .dataframe tbody tr th:only-of-type {\n",
       "        vertical-align: middle;\n",
       "    }\n",
       "\n",
       "    .dataframe tbody tr th {\n",
       "        vertical-align: top;\n",
       "    }\n",
       "\n",
       "    .dataframe thead th {\n",
       "        text-align: right;\n",
       "    }\n",
       "</style>\n",
       "<table border=\"1\" class=\"dataframe\">\n",
       "  <thead>\n",
       "    <tr style=\"text-align: right;\">\n",
       "      <th></th>\n",
       "      <th>userId</th>\n",
       "      <th>movieId</th>\n",
       "      <th>rating</th>\n",
       "      <th>timestamp</th>\n",
       "      <th>title</th>\n",
       "      <th>genres</th>\n",
       "    </tr>\n",
       "  </thead>\n",
       "  <tbody>\n",
       "    <tr>\n",
       "      <th>0</th>\n",
       "      <td>1</td>\n",
       "      <td>307</td>\n",
       "      <td>3.5</td>\n",
       "      <td>1256677221</td>\n",
       "      <td>Three Colors: Blue (Trois couleurs: Bleu) (1993)</td>\n",
       "      <td>Drama</td>\n",
       "    </tr>\n",
       "    <tr>\n",
       "      <th>1</th>\n",
       "      <td>6</td>\n",
       "      <td>307</td>\n",
       "      <td>4.0</td>\n",
       "      <td>832059248</td>\n",
       "      <td>Three Colors: Blue (Trois couleurs: Bleu) (1993)</td>\n",
       "      <td>Drama</td>\n",
       "    </tr>\n",
       "    <tr>\n",
       "      <th>2</th>\n",
       "      <td>56</td>\n",
       "      <td>307</td>\n",
       "      <td>4.0</td>\n",
       "      <td>1383625728</td>\n",
       "      <td>Three Colors: Blue (Trois couleurs: Bleu) (1993)</td>\n",
       "      <td>Drama</td>\n",
       "    </tr>\n",
       "    <tr>\n",
       "      <th>3</th>\n",
       "      <td>71</td>\n",
       "      <td>307</td>\n",
       "      <td>5.0</td>\n",
       "      <td>1257795414</td>\n",
       "      <td>Three Colors: Blue (Trois couleurs: Bleu) (1993)</td>\n",
       "      <td>Drama</td>\n",
       "    </tr>\n",
       "    <tr>\n",
       "      <th>4</th>\n",
       "      <td>84</td>\n",
       "      <td>307</td>\n",
       "      <td>3.0</td>\n",
       "      <td>999055519</td>\n",
       "      <td>Three Colors: Blue (Trois couleurs: Bleu) (1993)</td>\n",
       "      <td>Drama</td>\n",
       "    </tr>\n",
       "  </tbody>\n",
       "</table>\n",
       "</div>"
      ],
      "text/plain": [
       "   userId  movieId  rating   timestamp  \\\n",
       "0       1      307     3.5  1256677221   \n",
       "1       6      307     4.0   832059248   \n",
       "2      56      307     4.0  1383625728   \n",
       "3      71      307     5.0  1257795414   \n",
       "4      84      307     3.0   999055519   \n",
       "\n",
       "                                              title genres  \n",
       "0  Three Colors: Blue (Trois couleurs: Bleu) (1993)  Drama  \n",
       "1  Three Colors: Blue (Trois couleurs: Bleu) (1993)  Drama  \n",
       "2  Three Colors: Blue (Trois couleurs: Bleu) (1993)  Drama  \n",
       "3  Three Colors: Blue (Trois couleurs: Bleu) (1993)  Drama  \n",
       "4  Three Colors: Blue (Trois couleurs: Bleu) (1993)  Drama  "
      ]
     },
     "execution_count": 58,
     "metadata": {},
     "output_type": "execute_result"
    }
   ],
   "source": [
    "#Merging Dataset\n",
    "movie_ratings_df = pd.merge(filtered_user_df, movies_df, on='movieId')\n",
    "movie_ratings_df.head()"
   ]
  },
  {
   "cell_type": "code",
   "execution_count": null,
   "metadata": {},
   "outputs": [],
   "source": [
    "# Export file as a CSV\n",
    "#movie_ratings_df.to_csv(\"movie_filtered.csv\", index=False, header=True)"
   ]
  },
  {
   "cell_type": "code",
   "execution_count": 59,
   "metadata": {},
   "outputs": [
    {
     "name": "stdout",
     "output_type": "stream",
     "text": [
      "There are 282996 users and 8024 movies in this dataset.\n"
     ]
    }
   ],
   "source": [
    "# Determining the number of unique users and movies in the filtered down database\n",
    "number_users = len(movie_ratings_df.userId.unique())\n",
    "number_movies = len(movie_ratings_df.movieId.unique())\n",
    "print('There are {} users and {} movies in this dataset.'.format(number_users, number_movies) )"
   ]
  },
  {
   "cell_type": "code",
   "execution_count": null,
   "metadata": {},
   "outputs": [],
   "source": [
    "# Pivoting the dataframe \n",
    "df_movie_pivot = filtered_user_df.pivot(\n",
    "    index='movieId',\n",
    "    columns='userId',\n",
    "    values='rating'\n",
    ").fillna(0)\n"
   ]
  },
  {
   "cell_type": "code",
   "execution_count": null,
   "metadata": {},
   "outputs": [],
   "source": [
    "# creating movie name index\n",
    "movie_title_index= {\n",
    "    movie: i for i, movie in \n",
    "    enumerate(list(movies_df.set_index('movieId').loc[df_movie_pivot.index].title))\n",
    "}\n",
    "\n",
    "# convert dataframe of movie features to scipy sparse matrix\n",
    "movie_matrix = csr_matrix(df_movie_pivot.values)"
   ]
  },
  {
   "cell_type": "code",
   "execution_count": null,
   "metadata": {},
   "outputs": [],
   "source": [
    "print(movie_title_index)"
   ]
  },
  {
   "cell_type": "code",
   "execution_count": null,
   "metadata": {},
   "outputs": [],
   "source": [
    "from sklearn.neighbors import NearestNeighbors\n",
    "model_knn = NearestNeighbors(metric='cosine', algorithm='brute', n_neighbors=20, n_jobs=-1)\n",
    "model_knn.fit(movie_matrix)"
   ]
  },
  {
   "cell_type": "code",
   "execution_count": null,
   "metadata": {},
   "outputs": [],
   "source": [
    "type(model_knn)\n"
   ]
  },
  {
   "cell_type": "code",
   "execution_count": 10,
   "metadata": {},
   "outputs": [],
   "source": [
    "from joblib import dump, load\n",
    "#dump(model_knn, 'knn_model.joblib')"
   ]
  },
  {
   "cell_type": "code",
   "execution_count": 11,
   "metadata": {},
   "outputs": [],
   "source": [
    "model_knn = load('knn_model.joblib') "
   ]
  },
  {
   "cell_type": "code",
   "execution_count": 9,
   "metadata": {},
   "outputs": [
    {
     "ename": "NameError",
     "evalue": "name 'movie_title_index' is not defined",
     "output_type": "error",
     "traceback": [
      "\u001b[0;31m---------------------------------------------------------------------------\u001b[0m",
      "\u001b[0;31mNameError\u001b[0m                                 Traceback (most recent call last)",
      "\u001b[0;32m<ipython-input-9-1adfdd6709bb>\u001b[0m in \u001b[0;36m<module>\u001b[0;34m\u001b[0m\n\u001b[1;32m      1\u001b[0m \u001b[0;34m\u001b[0m\u001b[0m\n\u001b[0;32m----> 2\u001b[0;31m \u001b[0mdump\u001b[0m\u001b[0;34m(\u001b[0m\u001b[0mmovie_title_index\u001b[0m\u001b[0;34m,\u001b[0m \u001b[0;34m'movie_title_index.joblib'\u001b[0m\u001b[0;34m)\u001b[0m\u001b[0;34m\u001b[0m\u001b[0;34m\u001b[0m\u001b[0m\n\u001b[0m",
      "\u001b[0;31mNameError\u001b[0m: name 'movie_title_index' is not defined"
     ]
    }
   ],
   "source": [
    "\n",
    "dump(movie_title_index, 'movie_title_index.joblib')"
   ]
  },
  {
   "cell_type": "code",
   "execution_count": 12,
   "metadata": {},
   "outputs": [],
   "source": [
    "movie_title_index = load('movie_title_index.joblib') "
   ]
  },
  {
   "cell_type": "code",
   "execution_count": null,
   "metadata": {},
   "outputs": [],
   "source": [
    "dump(movie_matrix, 'movie_matrix.joblib')"
   ]
  },
  {
   "cell_type": "code",
   "execution_count": 13,
   "metadata": {},
   "outputs": [],
   "source": [
    "movie_matrix = load('movie_matrix.joblib') "
   ]
  },
  {
   "cell_type": "code",
   "execution_count": 14,
   "metadata": {},
   "outputs": [],
   "source": [
    "def similar_name_search(mapper, fav_movie):  \n",
    "    match_tuple = []\n",
    "    # Get a match between user movie choice and titles in the database\n",
    "    for title, idx in movie_title_index.items():\n",
    "        ratio = fuzz.ratio(str(title).lower(), str(fav_movie).lower())\n",
    "        if ratio >= 50:\n",
    "            match_tuple.append((title, idx, ratio))\n",
    "    # Sort the possible matches and see if they match up with the tuple\n",
    "    match_tuple = sorted(match_tuple, key=lambda x: x[2])[::-1]\n",
    "    if not match_tuple:\n",
    "        print('Oops! No match is found')\n",
    "        return \n",
    "    else:\n",
    "        print('Found possible matches in our database: {0}\\n'.format([x[0] for x in match_tuple]))\n",
    "        return match_tuple[0][1]"
   ]
  },
  {
   "cell_type": "code",
   "execution_count": 15,
   "metadata": {},
   "outputs": [],
   "source": [
    "#Function to make recommendation based on fav_movie or movie choice\n",
    "def make_recommendation(model_knn, data, fav_movie, mapper, n_recommendations):\n",
    "    # Choose a movie\n",
    "    model_knn.fit(data)\n",
    "    print('You have input movie:', fav_movie)\n",
    "    # Searching for similar movies\n",
    "    print('Recommendation system is looking to find similar movies')\n",
    "    print('...............\\n')\n",
    "    # Idx equals the function defined by the similarnamesearch above\n",
    "    idx = similar_name_search(movie_title_index, fav_movie)\n",
    "    distances ,indices = model_knn.kneighbors(data[idx], n_neighbors=n_recommendations+1)\n",
    "    # a list of the index without the titles of movie\n",
    "    raw_recommends = \\\n",
    "        sorted(list(zip(indices.squeeze().tolist(), distances.squeeze().tolist())), key=lambda x:x[1], reverse=True)[:0:-1] \n",
    "    # get reverse mapper\n",
    "    reverse_mapper = {v: k for k, v in mapper.items()}\n",
    "    # print recommendations\n",
    "    print('Recommendations for {}:'.format(fav_movie))\n",
    "    for i, (idx, dist) in enumerate(raw_recommends):\n",
    "        print('{0}: {1}, with distance of {2}'.format(i+1, reverse_mapper[idx], dist))\n",
    "   #sorted(iterable, key=None, reverse=False)    "
   ]
  },
  {
   "cell_type": "code",
   "execution_count": 16,
   "metadata": {},
   "outputs": [
    {
     "name": "stdout",
     "output_type": "stream",
     "text": [
      "You have input movie: Toy Story\n",
      "Recommendation system is looking to find similar movies\n",
      "...............\n",
      "\n",
      "Found possible matches in our database: ['Toy Story (1995)', 'Toy Story 3 (2010)', 'Toy Story 2 (1999)', 'True Story (2015)', 'Love Story (1970)', 'Ghost Story (1981)', 'Toy Story of Terror (2013)', 'Toy Soldiers (1991)']\n",
      "\n",
      "Recommendations for Toy Story:\n",
      "1: Toy Story (1995), with distance of 1.0168532682541809e-12\n",
      "2: Star Wars: Episode IV - A New Hope (1977), with distance of 0.46156213288171466\n",
      "3: Independence Day (a.k.a. ID4) (1996), with distance of 0.4637977295557769\n",
      "4: Toy Story 2 (1999), with distance of 0.47545005991798994\n",
      "5: Back to the Future (1985), with distance of 0.480166297731775\n",
      "6: Jurassic Park (1993), with distance of 0.4882799760521648\n",
      "7: Forrest Gump (1994), with distance of 0.49156524259091383\n",
      "8: Lion King, The (1994), with distance of 0.49880005679334827\n",
      "9: Mission: Impossible (1996), with distance of 0.5025598594099484\n",
      "10: Star Wars: Episode VI - Return of the Jedi (1983), with distance of 0.5032396256231308\n"
     ]
    }
   ],
   "source": [
    "my_favorite= 'Toy Story'\n",
    "\n",
    "make_recommendation(\n",
    "    model_knn=model_knn,\n",
    "    data=movie_matrix,\n",
    "    fav_movie= my_favorite,\n",
    "    mapper=movie_title_index,\n",
    "    n_recommendations=10)"
   ]
  },
  {
   "cell_type": "code",
   "execution_count": 17,
   "metadata": {},
   "outputs": [
    {
     "name": "stdout",
     "output_type": "stream",
     "text": [
      "You have input movie: back to the future\n",
      "Recommendation system is looking to find similar movies\n",
      "...............\n",
      "\n",
      "Found possible matches in our database: ['Back to the Future (1985)', 'Back to the Future Part II (1989)', 'Back to the Future Part III (1990)', 'Back to the Beach (1987)', 'Black Stallion, The (1979)', 'Black Hole, The (1979)', 'Bank Job, The (2008)', 'Back to School (1986)', 'Jacket, The (2005)', 'Way of the Gun, The (2000)', 'Black Cauldron, The (1985)']\n",
      "\n",
      "Recommendations for back to the future:\n",
      "1: Back to the Future (1985), with distance of 0.0\n",
      "2: Star Wars: Episode V - The Empire Strikes Back (1980), with distance of 0.3918197491944426\n",
      "3: Terminator, The (1984), with distance of 0.39613046281847786\n",
      "4: Raiders of the Lost Ark (Indiana Jones and the Raiders of the Lost Ark) (1981), with distance of 0.40601328299346695\n",
      "5: Indiana Jones and the Last Crusade (1989), with distance of 0.4145116793935628\n",
      "6: Back to the Future Part II (1989), with distance of 0.41519795804464876\n",
      "7: Ghostbusters (a.k.a. Ghost Busters) (1984), with distance of 0.41896789051260175\n",
      "8: Groundhog Day (1993), with distance of 0.4205874602899877\n",
      "9: Star Wars: Episode VI - Return of the Jedi (1983), with distance of 0.4240330225239052\n",
      "10: Men in Black (a.k.a. MIB) (1997), with distance of 0.4263429026027963\n"
     ]
    }
   ],
   "source": [
    "my_favorite= 'back to the future'\n",
    "\n",
    "make_recommendation(\n",
    "    model_knn=model_knn,\n",
    "    data=movie_matrix,\n",
    "    fav_movie= my_favorite,\n",
    "    mapper=movie_title_index,\n",
    "    n_recommendations=10)"
   ]
  },
  {
   "cell_type": "code",
   "execution_count": 18,
   "metadata": {},
   "outputs": [
    {
     "name": "stdout",
     "output_type": "stream",
     "text": [
      "You have input movie: Back to the future\n",
      "Recommendation system is looking to find similar movies\n",
      "...............\n",
      "\n",
      "Found possible matches in our database: ['Back to the Future (1985)', 'Back to the Future Part II (1989)', 'Back to the Future Part III (1990)', 'Back to the Beach (1987)', 'Black Stallion, The (1979)', 'Black Hole, The (1979)', 'Bank Job, The (2008)', 'Back to School (1986)', 'Jacket, The (2005)', 'Way of the Gun, The (2000)', 'Black Cauldron, The (1985)']\n",
      "\n",
      "Recommendations for Back to the future:\n",
      "1: Star Wars: Episode IV - A New Hope (1977), with distance of 0.43291319537576345\n",
      "2: Men in Black (a.k.a. MIB) (1997), with distance of 0.4263429026027963\n",
      "3: Star Wars: Episode VI - Return of the Jedi (1983), with distance of 0.4240330225239052\n",
      "4: Groundhog Day (1993), with distance of 0.4205874602899877\n",
      "5: Ghostbusters (a.k.a. Ghost Busters) (1984), with distance of 0.41896789051260175\n",
      "6: Back to the Future Part II (1989), with distance of 0.41519795804464876\n",
      "7: Indiana Jones and the Last Crusade (1989), with distance of 0.4145116793935628\n",
      "8: Raiders of the Lost Ark (Indiana Jones and the Raiders of the Lost Ark) (1981), with distance of 0.40601328299346695\n",
      "9: Terminator, The (1984), with distance of 0.39613046281847786\n",
      "10: Star Wars: Episode V - The Empire Strikes Back (1980), with distance of 0.3918197491944426\n"
     ]
    }
   ],
   "source": [
    "my_favorite= 'Back to the future'\n",
    "\n",
    "make_recommendation(\n",
    "    model_knn=model_knn,\n",
    "    data=movie_matrix,\n",
    "    fav_movie= my_favorite,\n",
    "    mapper=movie_title_index,\n",
    "    n_recommendations=10)"
   ]
  },
  {
   "cell_type": "code",
   "execution_count": 18,
   "metadata": {},
   "outputs": [
    {
     "name": "stdout",
     "output_type": "stream",
     "text": [
      "You have input movie: Ghost\n",
      "Recommendation system is looking to find similar movies\n",
      "...............\n",
      "\n",
      "Found possible matches in our database: ['Ghost (1990)']\n",
      "\n",
      "Recommendations for Ghost:\n",
      "1: Ghost (1990), with distance of 0.0\n",
      "2: Pretty Woman (1990), with distance of 0.332954985758119\n",
      "3: Sleepless in Seattle (1993), with distance of 0.3782815055140518\n",
      "4: Mrs. Doubtfire (1993), with distance of 0.3864624330916189\n",
      "5: Speed (1994), with distance of 0.41046807021681153\n",
      "6: Firm, The (1993), with distance of 0.4511962341521186\n",
      "7: Home Alone (1990), with distance of 0.46442288469133486\n",
      "8: Four Weddings and a Funeral (1994), with distance of 0.4791571411521294\n",
      "9: Mask, The (1994), with distance of 0.48560786099198094\n",
      "10: Fugitive, The (1993), with distance of 0.4897904200466393\n"
     ]
    }
   ],
   "source": [
    "my_favorite= 'Ghost'\n",
    "\n",
    "make_recommendation(\n",
    "    model_knn=model_knn,\n",
    "    data=movie_matrix,\n",
    "    fav_movie= my_favorite,\n",
    "    mapper=movie_title_index,\n",
    "    n_recommendations=10)"
   ]
  },
  {
   "cell_type": "code",
   "execution_count": 24,
   "metadata": {},
   "outputs": [
    {
     "name": "stdout",
     "output_type": "stream",
     "text": [
      "You have input movie: Ghost (\n",
      "Recommendation system is looking to find similar movies\n",
      "...............\n",
      "\n",
      "Found possible matches in our database: ['Ghost (1990)', 'Ghost Dad (1990)', '13 Ghosts (1960)', 'Hostel (2005)']\n",
      "\n",
      "Recommendations for Ghost (:\n",
      "1: Ghostbusters (a.k.a. Ghost Busters) (1984), with distance of 0.6810261411273322\n",
      "2: Judge Dredd (1995), with distance of 0.680275577893255\n",
      "3: Mr. Holland's Opus (1995), with distance of 0.6802102409232286\n",
      "4: Nine Months (1995), with distance of 0.6794771136623183\n",
      "5: Species (1995), with distance of 0.6794146669747448\n",
      "6: Big (1988), with distance of 0.67854711212489\n",
      "7: Terminator, The (1984), with distance of 0.6777821773317065\n",
      "8: Hot Shots! Part Deux (1993), with distance of 0.6775044009429522\n",
      "9: Broken Arrow (1996), with distance of 0.6734261338152843\n",
      "10: Rob Roy (1995), with distance of 0.6724330161679829\n",
      "11: Titanic (1997), with distance of 0.6694361874842627\n",
      "12: Ace Ventura: When Nature Calls (1995), with distance of 0.6692087599192573\n",
      "13: I.Q. (1994), with distance of 0.6683199020577568\n",
      "14: First Knight (1995), with distance of 0.6681991203635075\n",
      "15: Coneheads (1993), with distance of 0.6676181602547093\n",
      "16: Toy Story (1995), with distance of 0.6644745911585761\n",
      "17: Die Hard (1988), with distance of 0.6637380032335036\n",
      "18: Back to the Future (1985), with distance of 0.6627779552149697\n",
      "19: Men in Black (a.k.a. MIB) (1997), with distance of 0.6623981696504249\n",
      "20: What's Eating Gilbert Grape (1993), with distance of 0.6623531725134708\n",
      "21: Nightmare Before Christmas, The (1993), with distance of 0.6615591915930776\n",
      "22: When Harry Met Sally... (1989), with distance of 0.660014528329028\n",
      "23: Rock, The (1996), with distance of 0.6599996179158314\n",
      "24: Usual Suspects, The (1995), with distance of 0.6598598458907703\n",
      "25: City Slickers II: The Legend of Curly's Gold (1994), with distance of 0.655463512066039\n",
      "26: Jerry Maguire (1996), with distance of 0.6497773574945814\n",
      "27: Twelve Monkeys (a.k.a. 12 Monkeys) (1995), with distance of 0.6487350871458732\n",
      "28: Birdcage, The (1996), with distance of 0.6479153825209414\n",
      "29: Nell (1994), with distance of 0.6477491820581608\n",
      "30: Tombstone (1993), with distance of 0.6447035961011103\n",
      "31: Last Action Hero (1993), with distance of 0.6440230885395071\n",
      "32: Groundhog Day (1993), with distance of 0.6410664091680183\n",
      "33: Beverly Hills Cop III (1994), with distance of 0.6406765416102453\n",
      "34: Piano, The (1993), with distance of 0.6396148552620933\n",
      "35: Congo (1995), with distance of 0.6395974136536124\n",
      "36: French Kiss (1995), with distance of 0.6370416025896921\n",
      "37: Shawshank Redemption, The (1994), with distance of 0.6359242006001413\n",
      "38: Snow White and the Seven Dwarfs (1937), with distance of 0.6324207853630841\n",
      "39: Natural Born Killers (1994), with distance of 0.6322925053864996\n",
      "40: Top Gun (1986), with distance of 0.6315912704251124\n",
      "41: Crow, The (1994), with distance of 0.6283200252584407\n",
      "42: E.T. the Extra-Terrestrial (1982), with distance of 0.6272891911718076\n",
      "43: Disclosure (1994), with distance of 0.6221632029067481\n",
      "44: Quiz Show (1994), with distance of 0.6218007976325108\n",
      "45: Mission: Impossible (1996), with distance of 0.6196832802732157\n",
      "46: Pulp Fiction (1994), with distance of 0.617121383255345\n",
      "47: Demolition Man (1993), with distance of 0.6130383352616433\n",
      "48: Independence Day (a.k.a. ID4) (1996), with distance of 0.6119231548769682\n",
      "49: Addams Family Values (1993), with distance of 0.6089234946378113\n",
      "50: Schindler's List (1993), with distance of 0.6076522668516762\n",
      "51: Star Trek: Generations (1994), with distance of 0.6016194745392061\n",
      "52: Santa Clause, The (1994), with distance of 0.5985325927297536\n",
      "53: Get Shorty (1995), with distance of 0.5977902513669979\n",
      "54: Dumb & Dumber (Dumb and Dumber) (1994), with distance of 0.5957585418211551\n",
      "55: Seven (a.k.a. Se7en) (1995), with distance of 0.5954414933946701\n",
      "56: GoldenEye (1995), with distance of 0.5930716019234874\n",
      "57: Legends of the Fall (1994), with distance of 0.5915417536366675\n",
      "58: Twister (1996), with distance of 0.590270927136327\n",
      "59: Crimson Tide (1995), with distance of 0.5879136818181121\n",
      "60: Jumanji (1995), with distance of 0.5851506475221195\n",
      "61: Silence of the Lambs, The (1991), with distance of 0.5768437147335885\n",
      "62: Braveheart (1995), with distance of 0.5748695177764322\n",
      "63: Stargate (1994), with distance of 0.5742251936677577\n",
      "64: Cliffhanger (1993), with distance of 0.5727575301202849\n",
      "65: Waterworld (1995), with distance of 0.572120072534654\n",
      "66: Maverick (1994), with distance of 0.5713074977536602\n",
      "67: Clear and Present Danger (1994), with distance of 0.5672091893392148\n",
      "68: Ace Ventura: Pet Detective (1994), with distance of 0.5671545392443296\n",
      "69: Babe (1995), with distance of 0.5637384812883734\n",
      "70: American President, The (1995), with distance of 0.5613938846325612\n",
      "71: Clueless (1995), with distance of 0.561334103788365\n",
      "72: Die Hard: With a Vengeance (1995), with distance of 0.559833685779024\n",
      "73: In the Line of Fire (1993), with distance of 0.5594962076918766\n",
      "74: Batman Forever (1995), with distance of 0.5567525740745622\n",
      "75: Interview with the Vampire: The Vampire Chronicles (1994), with distance of 0.549987909918053\n",
      "76: Philadelphia (1993), with distance of 0.5496661927324167\n",
      "77: Net, The (1995), with distance of 0.5438240195233188\n",
      "78: Beauty and the Beast (1991), with distance of 0.5437863252049084\n",
      "79: Aladdin (1992), with distance of 0.5410066379617204\n",
      "80: Outbreak (1995), with distance of 0.5399198044353699\n",
      "81: Terminator 2: Judgment Day (1991), with distance of 0.5316047602570102\n",
      "82: Client, The (1994), with distance of 0.5293091568392103\n",
      "83: Apollo 13 (1995), with distance of 0.5277241591061212\n",
      "84: Batman (1989), with distance of 0.5191773173451574\n",
      "85: Forrest Gump (1994), with distance of 0.5161238823352925\n",
      "86: While You Were Sleeping (1995), with distance of 0.51459565916304\n",
      "87: Dave (1993), with distance of 0.509015323936632\n",
      "88: True Lies (1994), with distance of 0.5029930089386715\n",
      "89: Lion King, The (1994), with distance of 0.5024483616983431\n",
      "90: Dances with Wolves (1990), with distance of 0.4970845334574837\n",
      "91: Jurassic Park (1993), with distance of 0.49319416703249785\n",
      "92: Fugitive, The (1993), with distance of 0.4897904200466393\n",
      "93: Mask, The (1994), with distance of 0.48560786099198094\n",
      "94: Four Weddings and a Funeral (1994), with distance of 0.4791571411521294\n",
      "95: Home Alone (1990), with distance of 0.46442288469133486\n",
      "96: Firm, The (1993), with distance of 0.4511962341521186\n",
      "97: Speed (1994), with distance of 0.41046807021681153\n",
      "98: Mrs. Doubtfire (1993), with distance of 0.3864624330916189\n",
      "99: Sleepless in Seattle (1993), with distance of 0.3782815055140518\n",
      "100: Pretty Woman (1990), with distance of 0.332954985758119\n"
     ]
    }
   ],
   "source": [
    "my_favorite= 'Ghost ('\n",
    "\n",
    "make_recommendation(\n",
    "    model_knn=model_knn,\n",
    "    data=movie_matrix,\n",
    "    fav_movie= my_favorite,\n",
    "    mapper=movie_title_index,\n",
    "    n_recommendations=100)"
   ]
  },
  {
   "cell_type": "code",
   "execution_count": 20,
   "metadata": {},
   "outputs": [
    {
     "name": "stdout",
     "output_type": "stream",
     "text": [
      "You have input movie: i am sam\n",
      "Recommendation system is looking to find similar movies\n",
      "...............\n",
      "\n",
      "Found possible matches in our database: ['I Am Sam (2001)']\n",
      "\n",
      "Recommendations for i am sam:\n",
      "1: I Am Sam (2001), with distance of 1.8207657603852567e-14\n",
      "2: Pay It Forward (2000), with distance of 0.7415963551029496\n",
      "3: My Big Fat Greek Wedding (2002), with distance of 0.7489706841381081\n",
      "4: Panic Room (2002), with distance of 0.7582108204468905\n",
      "5: Shallow Hal (2001), with distance of 0.7588520809495967\n",
      "6: Meet the Parents (2000), with distance of 0.7590736247185537\n",
      "7: Beautiful Mind, A (2001), with distance of 0.7593589343015823\n",
      "8: Terminal, The (2004), with distance of 0.761562855568555\n",
      "9: Cast Away (2000), with distance of 0.7643816505998018\n",
      "10: Something's Gotta Give (2003), with distance of 0.7644390496067265\n"
     ]
    }
   ],
   "source": [
    "my_favorite= 'i am sam'\n",
    "\n",
    "make_recommendation(\n",
    "    model_knn=model_knn,\n",
    "    data=movie_matrix,\n",
    "    fav_movie= my_favorite,\n",
    "    mapper=movie_title_index,\n",
    "    n_recommendations=10)"
   ]
  },
  {
   "cell_type": "code",
   "execution_count": null,
   "metadata": {
    "scrolled": true
   },
   "outputs": [],
   "source": [
    "my_favorite= 'legally blonde'\n",
    "\n",
    "make_recommendation(\n",
    "    model_knn=model_knn,\n",
    "    data=movie_matrix,\n",
    "    fav_movie= my_favorite,\n",
    "    mapper=movie_title_index,\n",
    "    n_recommendations=10)"
   ]
  },
  {
   "cell_type": "code",
   "execution_count": null,
   "metadata": {},
   "outputs": [],
   "source": [
    "my_favorite= 'my big fat greek wedding'\n",
    "\n",
    "make_recommendation(\n",
    "    model_knn=model_knn,\n",
    "    data=movie_matrix,\n",
    "    fav_movie= my_favorite,\n",
    "    mapper=movie_title_index,\n",
    "    n_recommendations=10)"
   ]
  },
  {
   "cell_type": "code",
   "execution_count": null,
   "metadata": {},
   "outputs": [],
   "source": [
    "my_favorite= 'isle of dogs'\n",
    "\n",
    "make_recommendation(\n",
    "    model_knn=model_knn,\n",
    "    data=movie_matrix,\n",
    "    fav_movie= my_favorite,\n",
    "    mapper=movie_title_index,\n",
    "    n_recommendations=10)"
   ]
  },
  {
   "cell_type": "code",
   "execution_count": 19,
   "metadata": {},
   "outputs": [
    {
     "name": "stdout",
     "output_type": "stream",
     "text": [
      "You have input movie: pitch perfect\n",
      "Recommendation system is looking to find similar movies\n",
      "...............\n",
      "\n",
      "Found possible matches in our database: ['Pitch Perfect (2012)', 'Pitch Perfect 2 (2015)', 'Picture Perfect (1997)']\n",
      "\n",
      "Recommendations for pitch perfect:\n",
      "1: Pitch Perfect (2012), with distance of 0.0\n",
      "2: Pitch Perfect 2 (2015), with distance of 0.5063372284694982\n",
      "3: Easy A (2010), with distance of 0.5781909324359206\n",
      "4: Bridesmaids (2011), with distance of 0.627369485910972\n",
      "5: Frozen (2013), with distance of 0.650127820439771\n",
      "6: 21 Jump Street (2012), with distance of 0.6528737552776134\n",
      "7: Mean Girls (2004), with distance of 0.6581824613454497\n",
      "8: The Hunger Games: Catching Fire (2013), with distance of 0.6643230907140077\n",
      "9: The Hunger Games (2012), with distance of 0.6702019606191154\n",
      "10: Proposal, The (2009), with distance of 0.6721258673739673\n"
     ]
    }
   ],
   "source": [
    "my_favorite= 'pitch perfect'\n",
    "\n",
    "make_recommendation(\n",
    "    model_knn=model_knn,\n",
    "    data=movie_matrix,\n",
    "    fav_movie= my_favorite,\n",
    "    mapper=movie_title_index,\n",
    "    n_recommendations=10)"
   ]
  },
  {
   "cell_type": "code",
   "execution_count": null,
   "metadata": {},
   "outputs": [],
   "source": [
    "my_favorite= \"ghost\"\n",
    "make_recommendation(\n",
    "    model_knn=model_knn,\n",
    "    data=movie_matrix,\n",
    "    fav_movie= my_favorite,\n",
    "    mapper=movie_title_index,\n",
    "    n_recommendations=10)"
   ]
  },
  {
   "cell_type": "code",
   "execution_count": null,
   "metadata": {},
   "outputs": [],
   "source": []
  }
 ],
 "metadata": {
  "kernelspec": {
   "display_name": "Python 3",
   "language": "python",
   "name": "python3"
  },
  "language_info": {
   "codemirror_mode": {
    "name": "ipython",
    "version": 3
   },
   "file_extension": ".py",
   "mimetype": "text/x-python",
   "name": "python",
   "nbconvert_exporter": "python",
   "pygments_lexer": "ipython3",
   "version": "3.7.1"
  }
 },
 "nbformat": 4,
 "nbformat_minor": 2
}
