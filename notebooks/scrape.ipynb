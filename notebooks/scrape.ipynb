{
 "cells": [
  {
   "cell_type": "code",
   "execution_count": 1,
   "metadata": {},
   "outputs": [],
   "source": [
    "import os\n",
    "import csv\n",
    "import time\n",
    "import shutil\n",
    "import requests\n",
    "import pandas as pd\n",
    "from splinter import Browser"
   ]
  },
  {
   "cell_type": "code",
   "execution_count": 2,
   "metadata": {},
   "outputs": [],
   "source": [
    "#dataset with 2+ million rows (reviews) for 8000 movies\n",
    "movie_filtered = pd.read_csv(\"resources/movie_filtered.csv\")\n",
    "movieIds_small = movie_filtered[\"movieId\"].drop_duplicates()"
   ]
  },
  {
   "cell_type": "code",
   "execution_count": 63,
   "metadata": {
    "scrolled": true
   },
   "outputs": [
    {
     "data": {
      "text/html": [
       "<div>\n",
       "<style scoped>\n",
       "    .dataframe tbody tr th:only-of-type {\n",
       "        vertical-align: middle;\n",
       "    }\n",
       "\n",
       "    .dataframe tbody tr th {\n",
       "        vertical-align: top;\n",
       "    }\n",
       "\n",
       "    .dataframe thead th {\n",
       "        text-align: right;\n",
       "    }\n",
       "</style>\n",
       "<table border=\"1\" class=\"dataframe\">\n",
       "  <thead>\n",
       "    <tr style=\"text-align: right;\">\n",
       "      <th></th>\n",
       "      <th>movieId</th>\n",
       "      <th>imdbId</th>\n",
       "      <th>tmdbId</th>\n",
       "    </tr>\n",
       "  </thead>\n",
       "  <tbody>\n",
       "    <tr>\n",
       "      <th>0</th>\n",
       "      <td>1</td>\n",
       "      <td>114709</td>\n",
       "      <td>862.0</td>\n",
       "    </tr>\n",
       "    <tr>\n",
       "      <th>1</th>\n",
       "      <td>2</td>\n",
       "      <td>113497</td>\n",
       "      <td>8844.0</td>\n",
       "    </tr>\n",
       "    <tr>\n",
       "      <th>2</th>\n",
       "      <td>3</td>\n",
       "      <td>113228</td>\n",
       "      <td>15602.0</td>\n",
       "    </tr>\n",
       "    <tr>\n",
       "      <th>3</th>\n",
       "      <td>4</td>\n",
       "      <td>114885</td>\n",
       "      <td>31357.0</td>\n",
       "    </tr>\n",
       "    <tr>\n",
       "      <th>4</th>\n",
       "      <td>5</td>\n",
       "      <td>113041</td>\n",
       "      <td>11862.0</td>\n",
       "    </tr>\n",
       "  </tbody>\n",
       "</table>\n",
       "</div>"
      ],
      "text/plain": [
       "   movieId  imdbId   tmdbId\n",
       "0        1  114709    862.0\n",
       "1        2  113497   8844.0\n",
       "2        3  113228  15602.0\n",
       "3        4  114885  31357.0\n",
       "4        5  113041  11862.0"
      ]
     },
     "execution_count": 63,
     "metadata": {},
     "output_type": "execute_result"
    }
   ],
   "source": [
    "#dataset with 50,000+ movie ids\n",
    "movies = pd.read_csv(\"resources/links.csv\")\n",
    "movies.dropna(inplace=True)\n",
    "\n",
    "#previews dataframe\n",
    "movies.head()"
   ]
  },
  {
   "cell_type": "code",
   "execution_count": 64,
   "metadata": {
    "scrolled": true
   },
   "outputs": [
    {
     "data": {
      "text/html": [
       "<div>\n",
       "<style scoped>\n",
       "    .dataframe tbody tr th:only-of-type {\n",
       "        vertical-align: middle;\n",
       "    }\n",
       "\n",
       "    .dataframe tbody tr th {\n",
       "        vertical-align: top;\n",
       "    }\n",
       "\n",
       "    .dataframe thead th {\n",
       "        text-align: right;\n",
       "    }\n",
       "</style>\n",
       "<table border=\"1\" class=\"dataframe\">\n",
       "  <thead>\n",
       "    <tr style=\"text-align: right;\">\n",
       "      <th></th>\n",
       "      <th>movieId</th>\n",
       "      <th>imdbId</th>\n",
       "      <th>tmdbId</th>\n",
       "    </tr>\n",
       "  </thead>\n",
       "  <tbody>\n",
       "    <tr>\n",
       "      <th>0</th>\n",
       "      <td>307</td>\n",
       "      <td>108394</td>\n",
       "      <td>108.0</td>\n",
       "    </tr>\n",
       "    <tr>\n",
       "      <th>1</th>\n",
       "      <td>481</td>\n",
       "      <td>107302</td>\n",
       "      <td>10909.0</td>\n",
       "    </tr>\n",
       "    <tr>\n",
       "      <th>2</th>\n",
       "      <td>1091</td>\n",
       "      <td>98627</td>\n",
       "      <td>8491.0</td>\n",
       "    </tr>\n",
       "    <tr>\n",
       "      <th>3</th>\n",
       "      <td>1257</td>\n",
       "      <td>88794</td>\n",
       "      <td>13667.0</td>\n",
       "    </tr>\n",
       "    <tr>\n",
       "      <th>4</th>\n",
       "      <td>1449</td>\n",
       "      <td>118111</td>\n",
       "      <td>16448.0</td>\n",
       "    </tr>\n",
       "  </tbody>\n",
       "</table>\n",
       "</div>"
      ],
      "text/plain": [
       "   movieId  imdbId   tmdbId\n",
       "0      307  108394    108.0\n",
       "1      481  107302  10909.0\n",
       "2     1091   98627   8491.0\n",
       "3     1257   88794  13667.0\n",
       "4     1449  118111  16448.0"
      ]
     },
     "execution_count": 64,
     "metadata": {},
     "output_type": "execute_result"
    }
   ],
   "source": [
    "#dataframe with 8000 movieIds and their respective imdbIds and tmdbIds\n",
    "movieIds_small_df = pd.merge(movieIds_small, movies, on=\"movieId\")\n",
    "\n",
    "#previews dataframe\n",
    "movieIds_small_df.head()"
   ]
  },
  {
   "cell_type": "code",
   "execution_count": null,
   "metadata": {
    "scrolled": true
   },
   "outputs": [],
   "source": [
    "#posters already scraped (i.e. a list of file names currently in \"images\" folder)\n",
    "saved_posters = os.listdir(\"static/images\")\n",
    "saved_posters = [int(poster.replace(\".jpg\", \"\")) for poster in saved_posters]\n",
    "saved_posters.sort()\n",
    "\n",
    "#previews dataframe\n",
    "saved_posters"
   ]
  },
  {
   "cell_type": "code",
   "execution_count": 60,
   "metadata": {
    "scrolled": true
   },
   "outputs": [
    {
     "data": {
      "text/html": [
       "<div>\n",
       "<style scoped>\n",
       "    .dataframe tbody tr th:only-of-type {\n",
       "        vertical-align: middle;\n",
       "    }\n",
       "\n",
       "    .dataframe tbody tr th {\n",
       "        vertical-align: top;\n",
       "    }\n",
       "\n",
       "    .dataframe thead th {\n",
       "        text-align: right;\n",
       "    }\n",
       "</style>\n",
       "<table border=\"1\" class=\"dataframe\">\n",
       "  <thead>\n",
       "    <tr style=\"text-align: right;\">\n",
       "      <th></th>\n",
       "      <th>movieId</th>\n",
       "      <th>imdbId</th>\n",
       "      <th>tmdbId</th>\n",
       "    </tr>\n",
       "  </thead>\n",
       "  <tbody>\n",
       "    <tr>\n",
       "      <th>1889</th>\n",
       "      <td>26614</td>\n",
       "      <td>94791</td>\n",
       "      <td>8677.0</td>\n",
       "    </tr>\n",
       "    <tr>\n",
       "      <th>2174</th>\n",
       "      <td>77854</td>\n",
       "      <td>384700</td>\n",
       "      <td>37106.0</td>\n",
       "    </tr>\n",
       "    <tr>\n",
       "      <th>7683</th>\n",
       "      <td>53883</td>\n",
       "      <td>430484</td>\n",
       "      <td>49870.0</td>\n",
       "    </tr>\n",
       "    <tr>\n",
       "      <th>7755</th>\n",
       "      <td>185135</td>\n",
       "      <td>1665071</td>\n",
       "      <td>500609.0</td>\n",
       "    </tr>\n",
       "  </tbody>\n",
       "</table>\n",
       "</div>"
      ],
      "text/plain": [
       "      movieId   imdbId    tmdbId\n",
       "1889    26614    94791    8677.0\n",
       "2174    77854   384700   37106.0\n",
       "7683    53883   430484   49870.0\n",
       "7755   185135  1665071  500609.0"
      ]
     },
     "execution_count": 60,
     "metadata": {},
     "output_type": "execute_result"
    }
   ],
   "source": [
    "#dataframe featuring only Ids (i.e. file names) not found in \"images\" folder\n",
    "missing_posters = movieIds_small_df.loc[~movieIds_small_df[\"movieId\"].isin(saved_posters)]\n",
    "\n",
    "#previews dataframe\n",
    "missing_posters"
   ]
  },
  {
   "cell_type": "code",
   "execution_count": 7,
   "metadata": {},
   "outputs": [],
   "source": [
    "#activates google chrome for automation\n",
    "executable_path = {'executable_path': 'chromedriver.exe'}\n",
    "browser = Browser('chrome', **executable_path, headless=True)"
   ]
  },
  {
   "cell_type": "code",
   "execution_count": 8,
   "metadata": {},
   "outputs": [],
   "source": [
    "def tmdb_scrape(movie_df, start):\n",
    "    start_scrape = time.time()\n",
    "    \n",
    "    for index, movie in movie_df[start:].iterrows():\n",
    "\n",
    "        start_download = time.time()\n",
    "        movieId = int(movie[\"movieId\"])\n",
    "        tmdbId = int(movie[\"tmdbId\"])\n",
    "        url = f'https://www.themoviedb.org/movie/{tmdbId}/images/posters?language=en-US'\n",
    "        browser.visit(url)\n",
    "\n",
    "        try:\n",
    "            if(browser.is_element_present_by_tag(\"li\", wait_time=2)):\n",
    "\n",
    "                title = browser.title.replace(\" - Posters — The Movie Database (TMDb)\", \"\")\n",
    "                link = browser.find_link_by_partial_href(\"https://image.tmdb.org/t/p/original/\").first._element.get_attribute('href')\n",
    "\n",
    "                #downloads poster\n",
    "                with open(\"static/images/\" + str(movieId) + \".jpg\", \"wb\") as f:\n",
    "                    f.write(requests.get(link).content)\n",
    "\n",
    "                download_completed = time.time() - start_download\n",
    "                print(\"_____________________________________________________\")\n",
    "                print(movieId, title, tmdbId)\n",
    "                print(link)\n",
    "                print(f'Movie poster downloaded in {download_completed} seconds.')\n",
    "\n",
    "            else:\n",
    "                print(movieId, '- tag not found')\n",
    "                with open('resources/missing_posters.csv', mode='a') as log:\n",
    "                    writer = csv.writer(log)\n",
    "                    writer.writerow([movieId, 'tag not found'])\n",
    "                log.close()\n",
    "                continue\n",
    "\n",
    "        except Exception as e:\n",
    "            print(movieId, e)\n",
    "            with open('resources/missing_posters.csv', mode='a') as log:\n",
    "                writer = csv.writer(log)\n",
    "                writer.writerow([movieId, e])\n",
    "            log.close()\n",
    "            continue\n",
    "\n",
    "    scrape_time = time.time() - start_scrape\n",
    "    print(f'Scrape completed in {scrape_time} seconds.')"
   ]
  },
  {
   "cell_type": "code",
   "execution_count": 57,
   "metadata": {},
   "outputs": [],
   "source": [
    "def imdb_scrape(movie_df, start):\n",
    "    start_scrape = time.time()\n",
    "\n",
    "    for index, movie in movie_df[start:].iterrows():\n",
    "        start_time = time.time()\n",
    "\n",
    "        movieId = int(movie[\"movieId\"])\n",
    "        imdbId = int(movie[\"imdbId\"])\n",
    "        # add or subtract \"0\" from \"/tt00\" to alter results\n",
    "        url = \"https://www.imdb.com/title/tt00\" + str(imdbId) + \"/mediaindex?refine=poster&ref_=ttmi_ref_pos\"\n",
    "\n",
    "        try:\n",
    "            browser.visit(url)\n",
    "            link = browser.find_link_by_partial_href(str(imdbId) + \"/mediaviewer\")\n",
    "            url = link.first._element.get_attribute('href')\n",
    "            browser.visit(url)\n",
    "    \n",
    "            title = browser.title\n",
    "            link = browser.find_by_css('img')[2]['src']\n",
    "\n",
    "            #downloads poster\n",
    "            with open(\"static/images/\" + str(movieId) + \".jpg\", \"wb\") as f:\n",
    "                f.write(requests.get(link).content)\n",
    "\n",
    "            print(\"_____________________________________________________\")\n",
    "            print(movieId, title, imdbId)\n",
    "            print(link)\n",
    "\n",
    "            elapsed_time = time.time() - start_time\n",
    "            print(f'Movie poster downloaded in {elapsed_time} seconds.')\n",
    "\n",
    "        except Exception as e:\n",
    "            print(f'Movie poster for movie: {movieId} failed to download.', e)\n",
    "            continue\n",
    "\n",
    "    scrape_time = time.time() - start_scrape\n",
    "    print(f'Scrape completed in {scrape_time} seconds.')"
   ]
  },
  {
   "cell_type": "code",
   "execution_count": null,
   "metadata": {},
   "outputs": [],
   "source": [
    "def missing_titles(movie_df, start):\n",
    "    titles = []\n",
    "    \n",
    "    for index, movie in movie_df[start:].iterrows():\n",
    "        start_time = time.time()\n",
    "\n",
    "        movieId = int(movie[\"movieId\"])\n",
    "        imdbId = int(movie[\"imdbId\"])\n",
    "        url = \"https://www.imdb.com/title/tt00\" + str(imdbId) + \"/mediaindex?refine=poster&ref_=ttmi_ref_pos\"\n",
    "\n",
    "\n",
    "        browser.visit(url)\n",
    "        title = browser.title\n",
    "        titles.append(title)\n",
    "\n",
    "        print(\"_____________________________________________________\")\n",
    "        print(movieId, title, imdbId)\n",
    "        \n",
    "    return titles"
   ]
  },
  {
   "cell_type": "code",
   "execution_count": 61,
   "metadata": {},
   "outputs": [
    {
     "name": "stdout",
     "output_type": "stream",
     "text": [
      "_____________________________________________________\n",
      "26614 The Bourne Identity (TV Mini-Series 1988) - Photo Gallery - IMDb 94791\n",
      "_____________________________________________________\n",
      "77854 The Work of Director Michel Gondry (Video 2003) - Photo Gallery - IMDb 384700\n",
      "_____________________________________________________\n",
      "53883 The Power of Nightmares: The Rise of the Politics of Fear (TV Mini-Series 2004) - Photo Gallery - IMDb 430484\n",
      "_____________________________________________________\n",
      "185135 \"Sherlock\" A Study in Pink (TV Episode 2010) - Photo Gallery - IMDb 1665071\n"
     ]
    },
    {
     "data": {
      "text/plain": [
       "['The Bourne Identity (TV Mini-Series 1988) - Photo Gallery - IMDb',\n",
       " 'The Work of Director Michel Gondry (Video 2003) - Photo Gallery - IMDb',\n",
       " 'The Power of Nightmares: The Rise of the Politics of Fear (TV Mini-Series 2004) - Photo Gallery - IMDb',\n",
       " '\"Sherlock\" A Study in Pink (TV Episode 2010) - Photo Gallery - IMDb']"
      ]
     },
     "execution_count": 61,
     "metadata": {},
     "output_type": "execute_result"
    }
   ],
   "source": [
    "missing_titles(missing_posters, 0)"
   ]
  },
  {
   "cell_type": "code",
   "execution_count": 77,
   "metadata": {},
   "outputs": [],
   "source": [
    "def copy_posters():\n",
    "    for index, movie in movieIds_small_df.iterrows():\n",
    "\n",
    "        movieId = int(movie[\"movieId\"])\n",
    "        poster = str(movieId) + \".jpg\"\n",
    "        file1 = \"static/images/\" + poster\n",
    "        file2 = \"static/images2/\" + poster\n",
    "        \n",
    "        #print(f'copied {file1} to {file2}')\n",
    "        \n",
    "        try:\n",
    "            shutil.copy2(file1, file2)\n",
    "        except Exception as e:\n",
    "            print(e)\n",
    "            continue\n",
    "        "
   ]
  },
  {
   "cell_type": "code",
   "execution_count": 78,
   "metadata": {},
   "outputs": [
    {
     "name": "stdout",
     "output_type": "stream",
     "text": [
      "[Errno 2] No such file or directory: 'static/images/26614.jpg'\n",
      "[Errno 2] No such file or directory: 'static/images/77854.jpg'\n",
      "[Errno 2] No such file or directory: 'static/images/53883.jpg'\n",
      "[Errno 2] No such file or directory: 'static/images/185135.jpg'\n"
     ]
    }
   ],
   "source": [
    "copy_posters()"
   ]
  },
  {
   "cell_type": "code",
   "execution_count": null,
   "metadata": {},
   "outputs": [],
   "source": [
    "#uncomment following code to create csv for adam.\n",
    "'''\n",
    "for_adam = movieIds_small_df.copy().astype({\"tmdbId\": int})\n",
    "for_adam.sort_values(by=['movieId'], inplace=True)\n",
    "for_adam = for_adam.astype(str)\n",
    "for_adam.to_csv(\"filtered_links.csv\")\n",
    "for_adam\n",
    "\n",
    "'''"
   ]
  }
 ],
 "metadata": {
  "kernelspec": {
   "display_name": "Python 3",
   "language": "python",
   "name": "python3"
  },
  "language_info": {
   "codemirror_mode": {
    "name": "ipython",
    "version": 3
   },
   "file_extension": ".py",
   "mimetype": "text/x-python",
   "name": "python",
   "nbconvert_exporter": "python",
   "pygments_lexer": "ipython3",
   "version": "3.6.8"
  }
 },
 "nbformat": 4,
 "nbformat_minor": 2
}
